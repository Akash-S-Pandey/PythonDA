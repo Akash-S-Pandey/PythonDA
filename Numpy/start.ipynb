{
 "cells": [
  {
   "cell_type": "code",
   "execution_count": 2,
   "metadata": {},
   "outputs": [
    {
     "name": "stdout",
     "output_type": "stream",
     "text": [
      "[[2 4 6]\n",
      " [3 2 6]\n",
      " [1 7 9]]\n",
      "Total Dimention :  2\n",
      "Shape :  (3, 3)\n"
     ]
    }
   ],
   "source": [
    "import numpy as np\n",
    "z = [[2,4,6],[3,2,6],[1,7,9]]\n",
    "x = np.array(z)\n",
    "print(x)\n",
    "print(\"Total Dimention : \",x.ndim)\n",
    "print(\"Shape : \",x.shape)"
   ]
  },
  {
   "cell_type": "code",
   "execution_count": 4,
   "metadata": {},
   "outputs": [
    {
     "name": "stdout",
     "output_type": "stream",
     "text": [
      "(3, 6)\n",
      "[[0. 0. 0. 0. 0. 0.]\n",
      " [0. 0. 0. 0. 0. 0.]\n",
      " [0. 0. 0. 0. 0. 0.]]\n"
     ]
    }
   ],
   "source": [
    "import numpy as np \n",
    "x = np.zeros((3,6))\n",
    "print(x.shape)\n",
    "print(x)"
   ]
  },
  {
   "cell_type": "code",
   "execution_count": 5,
   "metadata": {},
   "outputs": [
    {
     "name": "stdout",
     "output_type": "stream",
     "text": [
      "[[1. 1. 1.]\n",
      " [1. 1. 1.]\n",
      " [1. 1. 1.]]\n"
     ]
    }
   ],
   "source": [
    "import numpy as np \n",
    "x = np.ones((3,3))\n",
    "print(x)"
   ]
  },
  {
   "cell_type": "code",
   "execution_count": 6,
   "metadata": {},
   "outputs": [
    {
     "name": "stdout",
     "output_type": "stream",
     "text": [
      "[[1. 0. 0.]\n",
      " [0. 1. 0.]\n",
      " [0. 0. 1.]]\n"
     ]
    }
   ],
   "source": [
    "# eye function  make digonal values as 1 and rest as 0\n",
    "import numpy as np \n",
    "x = np.eye((3))\n",
    "print(x)"
   ]
  },
  {
   "cell_type": "code",
   "execution_count": null,
   "metadata": {},
   "outputs": [],
   "source": [
    "#insert  user Choice Diagonal Elements\n",
    "import numpy as np\n",
    "z = np.diag([100,200,300])\n",
    "print(z)"
   ]
  },
  {
   "cell_type": "code",
   "execution_count": 7,
   "metadata": {},
   "outputs": [
    {
     "name": "stdout",
     "output_type": "stream",
     "text": [
      "[2 3 4 5]\n"
     ]
    }
   ],
   "source": [
    "import numpy as np \n",
    "x = np.diag([2,3,4,5])\n",
    "print(np.diag(x))"
   ]
  },
  {
   "cell_type": "code",
   "execution_count": 8,
   "metadata": {},
   "outputs": [
    {
     "name": "stdout",
     "output_type": "stream",
     "text": [
      "[8 5 9]\n"
     ]
    }
   ],
   "source": [
    "import numpy as np \n",
    "x = np.random.randint(1,10,3)\n",
    "print(x)"
   ]
  },
  {
   "cell_type": "code",
   "execution_count": 9,
   "metadata": {},
   "outputs": [
    {
     "name": "stdout",
     "output_type": "stream",
     "text": [
      "[0.00744889 0.9101772  0.74320945 0.33077859 0.57827705]\n"
     ]
    }
   ],
   "source": [
    "# This is use to Randomly generate a number from 0 to 1\n",
    "r = np.random.rand(5)\n",
    "print(r)"
   ]
  },
  {
   "cell_type": "code",
   "execution_count": null,
   "metadata": {},
   "outputs": [],
   "source": [
    "# this will create a Random Numbers near 0 (zero)\n",
    "r = np.random.randn(3)\n",
    "print(r)"
   ]
  },
  {
   "cell_type": "markdown",
   "metadata": {},
   "source": [
    "Lets Look How to Perform the Slicing and Indexing"
   ]
  },
  {
   "cell_type": "code",
   "execution_count": null,
   "metadata": {},
   "outputs": [],
   "source": [
    "#How to Find the the size of an array \n",
    "\n",
    "import numpy as np\n",
    "a = []\n",
    "size = int(input(\" Enter the Size : \"))\n",
    "for i in range(size):\n",
    "    val = int(input(\"Enter the Values : \"))\n",
    "    a.append(val)\n",
    "    arr = np.array(a)\n",
    "for i in range(arr.size):\n",
    "     print(arr[i],\"\",end=\"\")\n"
   ]
  },
  {
   "cell_type": "markdown",
   "metadata": {},
   "source": [
    "Lets Find the sum of the numbers using the above code"
   ]
  },
  {
   "cell_type": "code",
   "execution_count": 11,
   "metadata": {},
   "outputs": [
    {
     "name": "stdout",
     "output_type": "stream",
     "text": [
      "4 1 6 Sum :  11\n"
     ]
    }
   ],
   "source": [
    "import numpy as np\n",
    "a = []\n",
    "size = int(input(\" Enter the Size : \"))\n",
    "for i in range(size):\n",
    "    val = int(input(\"Enter the Values : \"))\n",
    "    a.append(val)\n",
    "    arr = np.array(a)\n",
    "for i in range(arr.size):\n",
    "     print(arr[i],\"\",end=\"\")\n",
    "sum = 0\n",
    "for i in range(arr.size):\n",
    "    sum = sum +arr[i]\n",
    "print(\"Sum : \",sum)"
   ]
  },
  {
   "cell_type": "markdown",
   "metadata": {},
   "source": [
    "Slicing over the Same Programe\n"
   ]
  },
  {
   "cell_type": "code",
   "execution_count": 13,
   "metadata": {},
   "outputs": [
    {
     "name": "stdout",
     "output_type": "stream",
     "text": [
      "4\n",
      "5\n",
      "6\n",
      "Sum :  15\n",
      "After Indexing  [4 5 6]\n"
     ]
    }
   ],
   "source": [
    "import numpy as np\n",
    "a = []\n",
    "size = int(input(\" Enter the Size : \"))\n",
    "for i in range(size):\n",
    "    val = int(input(\"Enter the Values : \"))\n",
    "    a.append(val)\n",
    "arr = np.array(a)\n",
    "for i in range(arr.size):\n",
    "     print(arr[i])\n",
    "sum = 0     \n",
    "for i in range(arr.size):\n",
    "    sum =sum +arr[i]   \n",
    "print(\"Sum : \",sum)      \n",
    "arr1 = arr[0:]     \n",
    "print(\"After Indexing \",arr1)\n",
    "\n"
   ]
  },
  {
   "cell_type": "markdown",
   "metadata": {},
   "source": [
    "Reshaping of an Array (Change from 1D to 2D and vice versa)"
   ]
  },
  {
   "cell_type": "code",
   "execution_count": 14,
   "metadata": {},
   "outputs": [
    {
     "name": "stdout",
     "output_type": "stream",
     "text": [
      "(12,)\n"
     ]
    },
    {
     "data": {
      "text/plain": [
       "array([[27, 17, 40, 21,  1, 16],\n",
       "       [48, 29, 34, 15, 39, 48]])"
      ]
     },
     "execution_count": 14,
     "metadata": {},
     "output_type": "execute_result"
    }
   ],
   "source": [
    "import numpy as np\n",
    "a = np.random.randint(1,50,12)\n",
    "print(a.shape)\n",
    "arr = a.reshape(2,6)    # Here we Converted the 1D to 2D\n",
    "arr"
   ]
  },
  {
   "cell_type": "code",
   "execution_count": null,
   "metadata": {},
   "outputs": [],
   "source": [
    "import numpy as np\n",
    "a = np.random.randint(1,50,12)\n",
    "\n",
    "arr = a.reshape(2,6)      # Here we Converted the 1D to 2D\n",
    "arr\n",
    "arr1 = arr.reshape(12,)  # Here we convert 2D to 1D\n",
    "arr1"
   ]
  },
  {
   "cell_type": "code",
   "execution_count": 15,
   "metadata": {},
   "outputs": [
    {
     "name": "stdout",
     "output_type": "stream",
     "text": [
      "[[ 9 26 16 19]\n",
      " [ 9 25 25 15]]\n",
      "The Dimention of an Array :  2\n",
      "The shape of an Array :  (2, 4)\n"
     ]
    }
   ],
   "source": [
    "a = np.random.randint(1,30,8)\n",
    "y = a.reshape(-1,4)\n",
    "print(y)\n",
    "print(\"The Dimention of an Array : \",y.ndim)\n",
    "print(\"The shape of an Array : \",y.shape)\n"
   ]
  },
  {
   "cell_type": "code",
   "execution_count": null,
   "metadata": {},
   "outputs": [],
   "source": []
  }
 ],
 "metadata": {
  "interpreter": {
   "hash": "bfb4883d108fc92ac768439090a2e92bb9a1f760a54beeecfd6762b5dcd70fe3"
  },
  "kernelspec": {
   "display_name": "Python 3.10.0 64-bit",
   "language": "python",
   "name": "python3"
  },
  "language_info": {
   "codemirror_mode": {
    "name": "ipython",
    "version": 3
   },
   "file_extension": ".py",
   "mimetype": "text/x-python",
   "name": "python",
   "nbconvert_exporter": "python",
   "pygments_lexer": "ipython3",
   "version": "3.10.0"
  },
  "orig_nbformat": 4
 },
 "nbformat": 4,
 "nbformat_minor": 2
}
