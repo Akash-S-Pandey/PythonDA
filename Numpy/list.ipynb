{
 "cells": [
  {
   "cell_type": "code",
   "execution_count": null,
   "metadata": {},
   "outputs": [],
   "source": [
    "tup = (1,2,3,\"Akash\")\n",
    "b_list = list(tup)\n",
    "print(b_list)\n",
    "\n",
    "# Slicing\n",
    "b_list[0] = \"Pandey\"\n",
    "print(b_list)\n",
    "b_list.insert(1,\"Good Boy\")\n",
    "print(b_list)\n",
    "\n",
    "b_list.remove('Pandey')\n",
    "print(b_list)\n",
    "\n",
    "\n",
    "\n"
   ]
  },
  {
   "cell_type": "code",
   "execution_count": null,
   "metadata": {},
   "outputs": [],
   "source": [
    "gen = range(10)\n",
    "print(list(gen))\n"
   ]
  },
  {
   "cell_type": "code",
   "execution_count": null,
   "metadata": {},
   "outputs": [],
   "source": [
    "#concating and combining the list\n",
    "a_list = [1,2,3,'Anil']\n",
    "b_list = [2,4,(2,4,6),'amish']\n",
    "a_list.extend(b_list)\n",
    "print(a_list)"
   ]
  },
  {
   "cell_type": "code",
   "execution_count": null,
   "metadata": {},
   "outputs": [],
   "source": [
    "a =  [1,4,6,3,9]\n",
    "a.sort()\n",
    "print(a)\n",
    "\n",
    "\n",
    "# sorting om the basic of the lenth of the string\n"
   ]
  }
 ],
 "metadata": {
  "interpreter": {
   "hash": "bfb4883d108fc92ac768439090a2e92bb9a1f760a54beeecfd6762b5dcd70fe3"
  },
  "kernelspec": {
   "display_name": "Python 3.10.0 64-bit",
   "language": "python",
   "name": "python3"
  },
  "language_info": {
   "codemirror_mode": {
    "name": "ipython",
    "version": 3
   },
   "file_extension": ".py",
   "mimetype": "text/x-python",
   "name": "python",
   "nbconvert_exporter": "python",
   "pygments_lexer": "ipython3",
   "version": "3.10.0"
  },
  "orig_nbformat": 4
 },
 "nbformat": 4,
 "nbformat_minor": 2
}
